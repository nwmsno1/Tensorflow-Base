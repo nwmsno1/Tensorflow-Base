{
 "cells": [
  {
   "cell_type": "markdown",
   "metadata": {},
   "source": [
    "# 利用conda配置tensorflow环境"
   ]
  },
  {
   "cell_type": "markdown",
   "metadata": {},
   "source": [
    "### 1. 创建新的tensorflow运行环境"
   ]
  },
  {
   "cell_type": "raw",
   "metadata": {},
   "source": [
    "conda create -n tensorflow python=3.7"
   ]
  },
  {
   "cell_type": "markdown",
   "metadata": {},
   "source": [
    "### 2. 激活tensorflow环境"
   ]
  },
  {
   "cell_type": "raw",
   "metadata": {},
   "source": [
    "activate tensorflow"
   ]
  },
  {
   "cell_type": "markdown",
   "metadata": {},
   "source": [
    "### 3. 用conda安装tensorflow"
   ]
  },
  {
   "cell_type": "raw",
   "metadata": {},
   "source": [
    "conda install tensorflow"
   ]
  },
  {
   "cell_type": "markdown",
   "metadata": {},
   "source": [
    "### 4. 安装成功后测试"
   ]
  },
  {
   "cell_type": "raw",
   "metadata": {},
   "source": [
    "import tensorflow as tf"
   ]
  },
  {
   "cell_type": "raw",
   "metadata": {},
   "source": [
    "hello = tf.constant('Hello, World')"
   ]
  },
  {
   "cell_type": "raw",
   "metadata": {},
   "source": [
    "sess = tf.Session()"
   ]
  },
  {
   "cell_type": "raw",
   "metadata": {},
   "source": [
    "print(sess.run(hello))"
   ]
  }
 ],
 "metadata": {
  "kernelspec": {
   "display_name": "Python 3",
   "language": "python",
   "name": "python3"
  },
  "language_info": {
   "codemirror_mode": {
    "name": "ipython",
    "version": 3
   },
   "file_extension": ".py",
   "mimetype": "text/x-python",
   "name": "python",
   "nbconvert_exporter": "python",
   "pygments_lexer": "ipython3",
   "version": "3.7.4"
  }
 },
 "nbformat": 4,
 "nbformat_minor": 2
}
