{
 "cells": [
  {
   "cell_type": "markdown",
   "metadata": {},
   "source": [
    "### 1. 数据读入"
   ]
  },
  {
   "cell_type": "code",
   "execution_count": 1,
   "metadata": {},
   "outputs": [
    {
     "data": {
      "text/html": [
       "<div>\n",
       "<style scoped>\n",
       "    .dataframe tbody tr th:only-of-type {\n",
       "        vertical-align: middle;\n",
       "    }\n",
       "\n",
       "    .dataframe tbody tr th {\n",
       "        vertical-align: top;\n",
       "    }\n",
       "\n",
       "    .dataframe thead th {\n",
       "        text-align: right;\n",
       "    }\n",
       "</style>\n",
       "<table border=\"1\" class=\"dataframe\">\n",
       "  <thead>\n",
       "    <tr style=\"text-align: right;\">\n",
       "      <th></th>\n",
       "      <th>R&amp;D Spend</th>\n",
       "      <th>Administration</th>\n",
       "      <th>Marketing Spend</th>\n",
       "      <th>State</th>\n",
       "      <th>Profit</th>\n",
       "    </tr>\n",
       "  </thead>\n",
       "  <tbody>\n",
       "    <tr>\n",
       "      <th>0</th>\n",
       "      <td>165349.20</td>\n",
       "      <td>136897.80</td>\n",
       "      <td>471784.10</td>\n",
       "      <td>New York</td>\n",
       "      <td>192261.83</td>\n",
       "    </tr>\n",
       "    <tr>\n",
       "      <th>1</th>\n",
       "      <td>162597.70</td>\n",
       "      <td>151377.59</td>\n",
       "      <td>443898.53</td>\n",
       "      <td>California</td>\n",
       "      <td>191792.06</td>\n",
       "    </tr>\n",
       "    <tr>\n",
       "      <th>2</th>\n",
       "      <td>153441.51</td>\n",
       "      <td>101145.55</td>\n",
       "      <td>407934.54</td>\n",
       "      <td>Florida</td>\n",
       "      <td>191050.39</td>\n",
       "    </tr>\n",
       "    <tr>\n",
       "      <th>3</th>\n",
       "      <td>144372.41</td>\n",
       "      <td>118671.85</td>\n",
       "      <td>383199.62</td>\n",
       "      <td>New York</td>\n",
       "      <td>182901.99</td>\n",
       "    </tr>\n",
       "    <tr>\n",
       "      <th>4</th>\n",
       "      <td>142107.34</td>\n",
       "      <td>91391.77</td>\n",
       "      <td>366168.42</td>\n",
       "      <td>Florida</td>\n",
       "      <td>166187.94</td>\n",
       "    </tr>\n",
       "  </tbody>\n",
       "</table>\n",
       "</div>"
      ],
      "text/plain": [
       "   R&D Spend  Administration  Marketing Spend       State     Profit\n",
       "0  165349.20       136897.80        471784.10    New York  192261.83\n",
       "1  162597.70       151377.59        443898.53  California  191792.06\n",
       "2  153441.51       101145.55        407934.54     Florida  191050.39\n",
       "3  144372.41       118671.85        383199.62    New York  182901.99\n",
       "4  142107.34        91391.77        366168.42     Florida  166187.94"
      ]
     },
     "execution_count": 1,
     "metadata": {},
     "output_type": "execute_result"
    }
   ],
   "source": [
    "import pandas as pd\n",
    "df = pd.read_csv('50_Startups.csv')\n",
    "df.head()"
   ]
  },
  {
   "cell_type": "markdown",
   "metadata": {},
   "source": [
    "### 2. 数据归一化"
   ]
  },
  {
   "cell_type": "code",
   "execution_count": 2,
   "metadata": {},
   "outputs": [
    {
     "data": {
      "text/html": [
       "<div>\n",
       "<style scoped>\n",
       "    .dataframe tbody tr th:only-of-type {\n",
       "        vertical-align: middle;\n",
       "    }\n",
       "\n",
       "    .dataframe tbody tr th {\n",
       "        vertical-align: top;\n",
       "    }\n",
       "\n",
       "    .dataframe thead th {\n",
       "        text-align: right;\n",
       "    }\n",
       "</style>\n",
       "<table border=\"1\" class=\"dataframe\">\n",
       "  <thead>\n",
       "    <tr style=\"text-align: right;\">\n",
       "      <th></th>\n",
       "      <th>R&amp;D Spend</th>\n",
       "      <th>Marketing Spend</th>\n",
       "      <th>Profit</th>\n",
       "    </tr>\n",
       "  </thead>\n",
       "  <tbody>\n",
       "    <tr>\n",
       "      <th>0</th>\n",
       "      <td>1.996146</td>\n",
       "      <td>2.132295</td>\n",
       "      <td>1.990990</td>\n",
       "    </tr>\n",
       "    <tr>\n",
       "      <th>1</th>\n",
       "      <td>1.936203</td>\n",
       "      <td>1.904267</td>\n",
       "      <td>1.979335</td>\n",
       "    </tr>\n",
       "    <tr>\n",
       "      <th>2</th>\n",
       "      <td>1.736731</td>\n",
       "      <td>1.610180</td>\n",
       "      <td>1.960934</td>\n",
       "    </tr>\n",
       "    <tr>\n",
       "      <th>3</th>\n",
       "      <td>1.539157</td>\n",
       "      <td>1.407916</td>\n",
       "      <td>1.758771</td>\n",
       "    </tr>\n",
       "    <tr>\n",
       "      <th>4</th>\n",
       "      <td>1.489812</td>\n",
       "      <td>1.268648</td>\n",
       "      <td>1.344094</td>\n",
       "    </tr>\n",
       "  </tbody>\n",
       "</table>\n",
       "</div>"
      ],
      "text/plain": [
       "   R&D Spend  Marketing Spend    Profit\n",
       "0   1.996146         2.132295  1.990990\n",
       "1   1.936203         1.904267  1.979335\n",
       "2   1.736731         1.610180  1.960934\n",
       "3   1.539157         1.407916  1.758771\n",
       "4   1.489812         1.268648  1.344094"
      ]
     },
     "execution_count": 2,
     "metadata": {},
     "output_type": "execute_result"
    }
   ],
   "source": [
    "def normalize_feature(df):\n",
    "    return df.apply(lambda column: (column - column.mean())/column.std())\n",
    "\n",
    "df = normalize_feature(df[['R&D Spend', 'Marketing Spend', 'Profit']])\n",
    "df.head()"
   ]
  },
  {
   "cell_type": "code",
   "execution_count": 3,
   "metadata": {},
   "outputs": [],
   "source": [
    "# 数据分析（3D）\n",
    "# import matplotlib.pyplot as plt\n",
    "# from mpl_toolkits import mplot3d\n",
    "# fig = plt.figure()\n",
    "# ax = plt.axes(projection='3d')\n",
    "# ax.set_xlabel('R&D Spend')\n",
    "# ax.set_ylabel('Marketing Spend')\n",
    "# ax.set_zlabel('Profit')\n",
    "# ax.scatter3D(df['R&D Spend'], df['Marketing Spend'], df['Profit'], c=df['Profit'], cmap='Reds')"
   ]
  },
  {
   "cell_type": "markdown",
   "metadata": {},
   "source": [
    "### 3. 数据处理"
   ]
  },
  {
   "cell_type": "code",
   "execution_count": 4,
   "metadata": {
    "scrolled": true
   },
   "outputs": [
    {
     "name": "stdout",
     "output_type": "stream",
     "text": [
      "(50, 3) <class 'numpy.ndarray'>\n",
      "(50, 1) <class 'numpy.ndarray'>\n"
     ]
    },
    {
     "data": {
      "text/html": [
       "<div>\n",
       "<style scoped>\n",
       "    .dataframe tbody tr th:only-of-type {\n",
       "        vertical-align: middle;\n",
       "    }\n",
       "\n",
       "    .dataframe tbody tr th {\n",
       "        vertical-align: top;\n",
       "    }\n",
       "\n",
       "    .dataframe thead th {\n",
       "        text-align: right;\n",
       "    }\n",
       "</style>\n",
       "<table border=\"1\" class=\"dataframe\">\n",
       "  <thead>\n",
       "    <tr style=\"text-align: right;\">\n",
       "      <th></th>\n",
       "      <th>ones</th>\n",
       "      <th>R&amp;D Spend</th>\n",
       "      <th>Marketing Spend</th>\n",
       "      <th>Profit</th>\n",
       "    </tr>\n",
       "  </thead>\n",
       "  <tbody>\n",
       "    <tr>\n",
       "      <th>0</th>\n",
       "      <td>1.0</td>\n",
       "      <td>1.996146</td>\n",
       "      <td>2.132295</td>\n",
       "      <td>1.990990</td>\n",
       "    </tr>\n",
       "    <tr>\n",
       "      <th>1</th>\n",
       "      <td>1.0</td>\n",
       "      <td>1.936203</td>\n",
       "      <td>1.904267</td>\n",
       "      <td>1.979335</td>\n",
       "    </tr>\n",
       "    <tr>\n",
       "      <th>2</th>\n",
       "      <td>1.0</td>\n",
       "      <td>1.736731</td>\n",
       "      <td>1.610180</td>\n",
       "      <td>1.960934</td>\n",
       "    </tr>\n",
       "    <tr>\n",
       "      <th>3</th>\n",
       "      <td>1.0</td>\n",
       "      <td>1.539157</td>\n",
       "      <td>1.407916</td>\n",
       "      <td>1.758771</td>\n",
       "    </tr>\n",
       "    <tr>\n",
       "      <th>4</th>\n",
       "      <td>1.0</td>\n",
       "      <td>1.489812</td>\n",
       "      <td>1.268648</td>\n",
       "      <td>1.344094</td>\n",
       "    </tr>\n",
       "  </tbody>\n",
       "</table>\n",
       "</div>"
      ],
      "text/plain": [
       "   ones  R&D Spend  Marketing Spend    Profit\n",
       "0   1.0   1.996146         2.132295  1.990990\n",
       "1   1.0   1.936203         1.904267  1.979335\n",
       "2   1.0   1.736731         1.610180  1.960934\n",
       "3   1.0   1.539157         1.407916  1.758771\n",
       "4   1.0   1.489812         1.268648  1.344094"
      ]
     },
     "execution_count": 4,
     "metadata": {},
     "output_type": "execute_result"
    }
   ],
   "source": [
    "import numpy as np\n",
    "\n",
    "# 为了方便矩阵相乘，添加一列全为1的x0\n",
    "ones = pd.DataFrame({'ones': np.ones(len(df))})  # ones是n行1列的数据框，表示x0恒为1\n",
    "df = pd.concat([ones, df], axis=1)  # 根据列合并数据\n",
    "\n",
    "X_data = np.array(df[df.columns[0:3]])\n",
    "Y_data = np.array(df[df.columns[-1]]).reshape(len(df), 1)\n",
    "\n",
    "print(X_data.shape, type(X_data))\n",
    "print(Y_data.shape, type(Y_data))\n",
    "df.head()"
   ]
  },
  {
   "cell_type": "markdown",
   "metadata": {},
   "source": [
    "### 4. 创建线性回归模型（数据流图）"
   ]
  },
  {
   "cell_type": "code",
   "execution_count": 5,
   "metadata": {},
   "outputs": [],
   "source": [
    "import tensorflow as tf\n",
    "\n",
    "tf.reset_default_graph() #  https://www.cnblogs.com/demo-deng/p/10365889.html\n",
    "\n",
    "alpha = 0.01  # 学习率\n",
    "epoch = 500 # 训练全量数据集的轮数\n",
    "\n",
    "# 创建线性回归模型（数据流图）\n",
    "with tf.name_scope('input'):\n",
    "    # 输入X, 形状[50,3]\n",
    "    X = tf.placeholder(tf.float32, X_data.shape, name='X')\n",
    "    # 输入Y,形状[50,1]\n",
    "    Y = tf.placeholder(tf.float32, Y_data.shape, name='Y')\n",
    "\n",
    "# 权重变量W，形状[3,1]\n",
    "with tf.name_scope('hypothesis'):\n",
    "    # 存疑：tf.get_variable_scope().reuse_variables()  # https://cloud.tencent.com/developer/article/1335672\n",
    "    W = tf.get_variable(\"weights\", (X_data.shape[1], 1), initializer=tf.constant_initializer())\n",
    "\n",
    "    # 假设函数 h(x) = w0*x0+w1*x1+w2*x2,其中x0恒为1\n",
    "    # 推理值 Y_pred 形状[47,10]\n",
    "    Y_pred = tf.matmul(X, W)\n",
    "\n",
    "with tf.name_scope('loss'):\n",
    "    # 损失函数采用最小二乘法，Y_pred - y 是形如[47,1]的向量\n",
    "    # tf.matmul(a, b, transpose_a=True) 表示： 矩阵a的转置乘矩阵b,及[1,47] x [47,1]\n",
    "    # 损失函数操作 loss\n",
    "    loss_op = 1 / (2 * len(X_data)) * tf.matmul((Y_pred - Y), (Y_pred - Y), transpose_a=True)\n",
    "\n",
    "with tf.name_scope('train'):\n",
    "    # 随机梯度下降优化器 opt\n",
    "    opt = tf.train.GradientDescentOptimizer(learning_rate=alpha)\n",
    "    # 单步训练操作 train_op\n",
    "    train_op = opt.minimize(loss_op)"
   ]
  },
  {
   "cell_type": "markdown",
   "metadata": {},
   "source": [
    "### 5. 创建会话（运行环境）"
   ]
  },
  {
   "cell_type": "code",
   "execution_count": 6,
   "metadata": {},
   "outputs": [
    {
     "name": "stdout",
     "output_type": "stream",
     "text": [
      "Epoch 10 \t Loss=0.3661 \t Model: y = 0.09726x1 + 0.07332x2 + 7.451e-11\n",
      "Epoch 20 \t Loss=0.2701 \t Model: y = 0.1796x1 + 0.1324x2 + 7.078e-10\n",
      "Epoch 30 \t Loss=0.2035 \t Model: y = 0.2495x1 + 0.1798x2 + 2.98e-10\n",
      "Epoch 40 \t Loss=0.1571 \t Model: y = 0.3091x1 + 0.2174x2 + -1.155e-09\n",
      "Epoch 50 \t Loss=0.1247 \t Model: y = 0.36x1 + 0.2471x2 + 8.196e-10\n",
      "Epoch 60 \t Loss=0.1019 \t Model: y = 0.4037x1 + 0.2702x2 + 7.078e-10\n",
      "Epoch 70 \t Loss=0.08567 \t Model: y = 0.4414x1 + 0.2879x2 + 1.49e-10\n",
      "Epoch 80 \t Loss=0.07409 \t Model: y = 0.4741x1 + 0.3011x2 + 8.009e-10\n",
      "Epoch 90 \t Loss=0.06568 \t Model: y = 0.5026x1 + 0.3107x2 + 1.639e-09\n",
      "Epoch 100 \t Loss=0.05949 \t Model: y = 0.5275x1 + 0.3173x2 + 2.403e-09\n",
      "Epoch 110 \t Loss=0.05484 \t Model: y = 0.5495x1 + 0.3215x2 + 3.427e-09\n",
      "Epoch 120 \t Loss=0.05128 \t Model: y = 0.569x1 + 0.3237x2 + 3.856e-09\n",
      "Epoch 130 \t Loss=0.04849 \t Model: y = 0.5863x1 + 0.3244x2 + 3.334e-09\n",
      "Epoch 140 \t Loss=0.04624 \t Model: y = 0.6019x1 + 0.3237x2 + 3.669e-09\n",
      "Epoch 150 \t Loss=0.04439 \t Model: y = 0.616x1 + 0.322x2 + 3.93e-09\n",
      "Epoch 160 \t Loss=0.04283 \t Model: y = 0.6288x1 + 0.3194x2 + 4.061e-09\n",
      "Epoch 170 \t Loss=0.04148 \t Model: y = 0.6405x1 + 0.3162x2 + 4.675e-09\n",
      "Epoch 180 \t Loss=0.0403 \t Model: y = 0.6512x1 + 0.3125x2 + 4.899e-09\n",
      "Epoch 190 \t Loss=0.03924 \t Model: y = 0.6611x1 + 0.3085x2 + 5.029e-09\n",
      "Epoch 200 \t Loss=0.03829 \t Model: y = 0.6704x1 + 0.3041x2 + 5.141e-09\n",
      "Epoch 210 \t Loss=0.03741 \t Model: y = 0.679x1 + 0.2995x2 + 5.364e-09\n",
      "Epoch 220 \t Loss=0.03661 \t Model: y = 0.687x1 + 0.2947x2 + 5.662e-09\n",
      "Epoch 230 \t Loss=0.03587 \t Model: y = 0.6946x1 + 0.2899x2 + 5.886e-09\n",
      "Epoch 240 \t Loss=0.03518 \t Model: y = 0.7018x1 + 0.285x2 + 6.072e-09\n",
      "Epoch 250 \t Loss=0.03454 \t Model: y = 0.7086x1 + 0.2801x2 + 6.426e-09\n",
      "Epoch 260 \t Loss=0.03394 \t Model: y = 0.7151x1 + 0.2752x2 + 6.91e-09\n",
      "Epoch 270 \t Loss=0.03337 \t Model: y = 0.7213x1 + 0.2703x2 + 7.488e-09\n",
      "Epoch 280 \t Loss=0.03284 \t Model: y = 0.7272x1 + 0.2655x2 + 7.618e-09\n",
      "Epoch 290 \t Loss=0.03234 \t Model: y = 0.7328x1 + 0.2608x2 + 7.618e-09\n",
      "Epoch 300 \t Loss=0.03188 \t Model: y = 0.7382x1 + 0.2561x2 + 7.749e-09\n",
      "Epoch 310 \t Loss=0.03143 \t Model: y = 0.7435x1 + 0.2515x2 + 7.637e-09\n",
      "Epoch 320 \t Loss=0.03102 \t Model: y = 0.7485x1 + 0.247x2 + 8.177e-09\n",
      "Epoch 330 \t Loss=0.03063 \t Model: y = 0.7533x1 + 0.2426x2 + 7.972e-09\n",
      "Epoch 340 \t Loss=0.03026 \t Model: y = 0.758x1 + 0.2383x2 + 8.028e-09\n",
      "Epoch 350 \t Loss=0.02992 \t Model: y = 0.7625x1 + 0.2341x2 + 8.009e-09\n",
      "Epoch 360 \t Loss=0.02959 \t Model: y = 0.7668x1 + 0.23x2 + 8.177e-09\n",
      "Epoch 370 \t Loss=0.02928 \t Model: y = 0.771x1 + 0.226x2 + 8.326e-09\n",
      "Epoch 380 \t Loss=0.02899 \t Model: y = 0.7751x1 + 0.2221x2 + 8.345e-09\n",
      "Epoch 390 \t Loss=0.02872 \t Model: y = 0.779x1 + 0.2183x2 + 8.401e-09\n",
      "Epoch 400 \t Loss=0.02846 \t Model: y = 0.7828x1 + 0.2146x2 + 8.55e-09\n",
      "Epoch 410 \t Loss=0.02822 \t Model: y = 0.7865x1 + 0.211x2 + 9.015e-09\n",
      "Epoch 420 \t Loss=0.02799 \t Model: y = 0.7901x1 + 0.2075x2 + 9.052e-09\n",
      "Epoch 430 \t Loss=0.02778 \t Model: y = 0.7935x1 + 0.2041x2 + 9.518e-09\n",
      "Epoch 440 \t Loss=0.02758 \t Model: y = 0.7969x1 + 0.2008x2 + 9.611e-09\n",
      "Epoch 450 \t Loss=0.02739 \t Model: y = 0.8001x1 + 0.1976x2 + 9.63e-09\n",
      "Epoch 460 \t Loss=0.02721 \t Model: y = 0.8033x1 + 0.1945x2 + 9.667e-09\n",
      "Epoch 470 \t Loss=0.02704 \t Model: y = 0.8063x1 + 0.1914x2 + 9.947e-09\n",
      "Epoch 480 \t Loss=0.02688 \t Model: y = 0.8093x1 + 0.1885x2 + 9.891e-09\n",
      "Epoch 490 \t Loss=0.02673 \t Model: y = 0.8122x1 + 0.1856x2 + 9.965e-09\n",
      "Epoch 500 \t Loss=0.02659 \t Model: y = 0.815x1 + 0.1829x2 + 9.928e-09\n"
     ]
    }
   ],
   "source": [
    "# 创建会话（运行环境）\n",
    "with tf.Session() as sess:\n",
    "    # 初始化全局变量\n",
    "    sess.run(tf.global_variables_initializer())\n",
    "    \n",
    "    # 创建 FileWriter 实例\n",
    "    writer = tf.summary.FileWriter(\"./summary/linear-regression-1/\", sess.graph)\n",
    "    \n",
    "    loss_data = []\n",
    "    # 开始训练模型\n",
    "    # 因为训练集较小，所以不采用批梯度下降优化算法，每次都采用全量数据训练\n",
    "    for e in range(1, epoch+1):\n",
    "        sess.run(train_op, feed_dict={X: X_data, Y: Y_data})\n",
    "        if e % 10 == 0:\n",
    "            _,loss, w = sess.run([train_op, loss_op, W], feed_dict={X: X_data, Y: Y_data})\n",
    "            # 记录每一轮损失值变化情况\n",
    "            loss_data.append(float(loss))\n",
    "            log_str = \"Epoch %d \\t Loss=%.4g \\t Model: y = %.4gx1 + %.4gx2 + %.4g\"\n",
    "            print(log_str % (e, loss, w[1], w[2], w[0]))\n",
    "    \n",
    "# 关闭FileWriter的输出流\n",
    "writer.close()\n",
    "# tensorboard --logdir ./ --host localhost"
   ]
  },
  {
   "cell_type": "markdown",
   "metadata": {},
   "source": [
    "### 6. 可视化损失值"
   ]
  },
  {
   "cell_type": "code",
   "execution_count": 7,
   "metadata": {},
   "outputs": [
    {
     "name": "stdout",
     "output_type": "stream",
     "text": [
      "50 [0.3661213517189026, 0.27011415362358093, 0.20349600911140442, 0.15711453557014465, 0.12467682361602783, 0.10185541212558746, 0.08567407727241516, 0.07408539205789566, 0.0656803622841835, 0.059489019215106964, 0.05484314635396004, 0.051282115280628204, 0.04848800227046013, 0.046241018921136856, 0.04438899829983711, 0.04282620921730995, 0.041478972882032394, 0.040295686572790146, 0.039239950478076935, 0.03828589990735054, 0.03741493821144104, 0.03661353141069412, 0.03587164729833603, 0.03518170863389969, 0.03453788533806801, 0.03393556922674179, 0.033371005207300186, 0.03284109756350517, 0.03234320878982544, 0.03187505528330803, 0.031434621661901474, 0.031020084396004677, 0.03062981739640236, 0.03026231937110424, 0.02991621196269989, 0.029590202495455742, 0.02928311936557293, 0.028993820771574974, 0.0287212785333395, 0.02846449799835682, 0.02822258323431015, 0.027994660660624504, 0.027779920026659966, 0.027577588334679604, 0.02738695777952671, 0.027207350358366966, 0.027038123458623886, 0.02687867358326912, 0.026728447526693344, 0.026586897671222687]\n"
     ]
    }
   ],
   "source": [
    "print(len(loss_data), loss_data)"
   ]
  },
  {
   "cell_type": "code",
   "execution_count": 9,
   "metadata": {},
   "outputs": [
    {
     "data": {
      "image/png": "[encoded data removed]",
      "text/plain": [
       "<matplotlib.figure.Figure at 0x1d857d67198>"
      ]
     },
     "metadata": {},
     "output_type": "display_data"
    }
   ],
   "source": [
    "import seaborn as sns\n",
    "import matplotlib.pyplot as plt\n",
    "sns.set(context='notebook', style='whitegrid', palette='dark')\n",
    "\n",
    "ax = sns.lineplot(x='epoch', y='loss', data=pd.DataFrame({'loss': loss_data, 'epoch': np.arange(epoch/10)}))\n",
    "ax.set_xlabel('epoch')\n",
    "ax.set_ylabel('loss')\n",
    "plt.show()"
   ]
  },
  {
   "cell_type": "code",
   "execution_count": null,
   "metadata": {},
   "outputs": [],
   "source": []
  }
 ],
 "metadata": {
  "kernelspec": {
   "display_name": "Python 3",
   "language": "python",
   "name": "python3"
  },
  "language_info": {
   "codemirror_mode": {
    "name": "ipython",
    "version": 3
   },
   "file_extension": ".py",
   "mimetype": "text/x-python",
   "name": "python",
   "nbconvert_exporter": "python",
   "pygments_lexer": "ipython3",
   "version": "3.6.4"
  }
 },
 "nbformat": 4,
 "nbformat_minor": 2
}
