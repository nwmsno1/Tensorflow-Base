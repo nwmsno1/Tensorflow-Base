{
 "cells": [
  {
   "cell_type": "code",
   "execution_count": 1,
   "metadata": {},
   "outputs": [
    {
     "name": "stderr",
     "output_type": "stream",
     "text": [
      "C:\\Users\\nwmsn\\Anaconda3\\lib\\site-packages\\h5py\\__init__.py:36: FutureWarning: Conversion of the second argument of issubdtype from `float` to `np.floating` is deprecated. In future, it will be treated as `np.float64 == np.dtype(float).type`.\n",
      "  from ._conv import register_converters as _register_converters\n"
     ]
    }
   ],
   "source": [
    "import tensorflow as tf"
   ]
  },
  {
   "cell_type": "code",
   "execution_count": 2,
   "metadata": {},
   "outputs": [],
   "source": [
    "# 0阶张量\n",
    "mammal = tf.Variable('Elephent', tf.string)\n",
    "ignition = tf.Variable(123, tf.int16)\n",
    "floating = tf.Variable(3.14159265359, tf.float64)\n",
    "its_complicated = tf.Variable(12.3-4.56j, tf.complex64)"
   ]
  },
  {
   "cell_type": "code",
   "execution_count": 3,
   "metadata": {},
   "outputs": [
    {
     "data": {
      "text/plain": [
       "[<tf.Variable 'Variable:0' shape=() dtype=string_ref>,\n",
       " <tf.Variable 'Variable_1:0' shape=() dtype=int32_ref>,\n",
       " <tf.Variable 'Variable_2:0' shape=() dtype=float32_ref>,\n",
       " <tf.Variable 'Variable_3:0' shape=() dtype=complex128_ref>]"
      ]
     },
     "execution_count": 3,
     "metadata": {},
     "output_type": "execute_result"
    }
   ],
   "source": [
    "[mammal, ignition, floating, its_complicated]"
   ]
  },
  {
   "cell_type": "code",
   "execution_count": 4,
   "metadata": {},
   "outputs": [],
   "source": [
    "# 1阶张量\n",
    "mystr = tf.Variable(['Hello', 'World'], tf.string)\n",
    "cool_numbers = tf.Variable([3.14159, 2.71828], tf.float32)\n",
    "first_primes = tf.Variable([2, 3, 5, 7, 11], tf.int32)\n",
    "its_very_complicated = tf.Variable([12.3-4.56j, 7.89-1.23j], tf.complex64)"
   ]
  },
  {
   "cell_type": "code",
   "execution_count": 5,
   "metadata": {},
   "outputs": [
    {
     "data": {
      "text/plain": [
       "[<tf.Variable 'Variable_4:0' shape=(2,) dtype=string_ref>,\n",
       " <tf.Variable 'Variable_5:0' shape=(2,) dtype=float32_ref>,\n",
       " <tf.Variable 'Variable_6:0' shape=(5,) dtype=int32_ref>,\n",
       " <tf.Variable 'Variable_7:0' shape=(2,) dtype=complex128_ref>]"
      ]
     },
     "execution_count": 5,
     "metadata": {},
     "output_type": "execute_result"
    }
   ],
   "source": [
    "[mystr, cool_numbers, first_primes, its_very_complicated]"
   ]
  },
  {
   "cell_type": "code",
   "execution_count": 6,
   "metadata": {},
   "outputs": [],
   "source": [
    "# 2阶张量\n",
    "mymat = tf.Variable([[7],[11]], tf.int16)\n",
    "myxor = tf.Variable([[False, True], [True, False]], tf.bool)\n",
    "linear_squares = tf.Variable([[1],[4],[9],[16]], tf.int32)\n",
    "squarish_squares = tf.Variable([[1,2], [3,4]], tf.int32)\n",
    "rank_of_squares = tf.rank(squarish_squares)\n",
    "mymatC = tf.Variable([[7],[11]], tf.int32)"
   ]
  },
  {
   "cell_type": "code",
   "execution_count": 7,
   "metadata": {},
   "outputs": [
    {
     "data": {
      "text/plain": [
       "[<tf.Variable 'Variable_8:0' shape=(2, 1) dtype=int32_ref>,\n",
       " <tf.Variable 'Variable_9:0' shape=(2, 2) dtype=bool_ref>,\n",
       " <tf.Variable 'Variable_10:0' shape=(4, 1) dtype=int32_ref>,\n",
       " <tf.Variable 'Variable_11:0' shape=(2, 2) dtype=int32_ref>,\n",
       " <tf.Tensor 'Rank:0' shape=() dtype=int32>,\n",
       " <tf.Variable 'Variable_12:0' shape=(2, 1) dtype=int32_ref>]"
      ]
     },
     "execution_count": 7,
     "metadata": {},
     "output_type": "execute_result"
    }
   ],
   "source": [
    "[mymat, myxor, linear_squares, squarish_squares, rank_of_squares, mymatC]"
   ]
  },
  {
   "cell_type": "code",
   "execution_count": 8,
   "metadata": {},
   "outputs": [],
   "source": [
    "# 4阶张量\n",
    "my_image = tf.zeros([10, 299, 300, 3])  # batch * height * width * color"
   ]
  },
  {
   "cell_type": "code",
   "execution_count": 9,
   "metadata": {},
   "outputs": [
    {
     "data": {
      "text/plain": [
       "<tf.Tensor 'zeros:0' shape=(10, 299, 300, 3) dtype=float32>"
      ]
     },
     "execution_count": 9,
     "metadata": {},
     "output_type": "execute_result"
    }
   ],
   "source": [
    "my_image"
   ]
  },
  {
   "cell_type": "code",
   "execution_count": null,
   "metadata": {},
   "outputs": [],
   "source": []
  }
 ],
 "metadata": {
  "kernelspec": {
   "display_name": "Python 3",
   "language": "python",
   "name": "python3"
  },
  "language_info": {
   "codemirror_mode": {
    "name": "ipython",
    "version": 3
   },
   "file_extension": ".py",
   "mimetype": "text/x-python",
   "name": "python",
   "nbconvert_exporter": "python",
   "pygments_lexer": "ipython3",
   "version": "3.6.4"
  }
 },
 "nbformat": 4,
 "nbformat_minor": 2
}
