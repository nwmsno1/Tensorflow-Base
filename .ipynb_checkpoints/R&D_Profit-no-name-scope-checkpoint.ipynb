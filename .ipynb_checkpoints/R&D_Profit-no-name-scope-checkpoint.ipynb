{
 "cells": [
  {
   "cell_type": "markdown",
   "metadata": {},
   "source": [
    "### 1. 数据读入"
   ]
  },
  {
   "cell_type": "code",
   "execution_count": 1,
   "metadata": {},
   "outputs": [
    {
     "data": {
      "text/html": [
       "<div>\n",
       "<style scoped>\n",
       "    .dataframe tbody tr th:only-of-type {\n",
       "        vertical-align: middle;\n",
       "    }\n",
       "\n",
       "    .dataframe tbody tr th {\n",
       "        vertical-align: top;\n",
       "    }\n",
       "\n",
       "    .dataframe thead th {\n",
       "        text-align: right;\n",
       "    }\n",
       "</style>\n",
       "<table border=\"1\" class=\"dataframe\">\n",
       "  <thead>\n",
       "    <tr style=\"text-align: right;\">\n",
       "      <th></th>\n",
       "      <th>R&amp;D Spend</th>\n",
       "      <th>Administration</th>\n",
       "      <th>Marketing Spend</th>\n",
       "      <th>State</th>\n",
       "      <th>Profit</th>\n",
       "    </tr>\n",
       "  </thead>\n",
       "  <tbody>\n",
       "    <tr>\n",
       "      <th>0</th>\n",
       "      <td>165349.20</td>\n",
       "      <td>136897.80</td>\n",
       "      <td>471784.10</td>\n",
       "      <td>New York</td>\n",
       "      <td>192261.83</td>\n",
       "    </tr>\n",
       "    <tr>\n",
       "      <th>1</th>\n",
       "      <td>162597.70</td>\n",
       "      <td>151377.59</td>\n",
       "      <td>443898.53</td>\n",
       "      <td>California</td>\n",
       "      <td>191792.06</td>\n",
       "    </tr>\n",
       "    <tr>\n",
       "      <th>2</th>\n",
       "      <td>153441.51</td>\n",
       "      <td>101145.55</td>\n",
       "      <td>407934.54</td>\n",
       "      <td>Florida</td>\n",
       "      <td>191050.39</td>\n",
       "    </tr>\n",
       "    <tr>\n",
       "      <th>3</th>\n",
       "      <td>144372.41</td>\n",
       "      <td>118671.85</td>\n",
       "      <td>383199.62</td>\n",
       "      <td>New York</td>\n",
       "      <td>182901.99</td>\n",
       "    </tr>\n",
       "    <tr>\n",
       "      <th>4</th>\n",
       "      <td>142107.34</td>\n",
       "      <td>91391.77</td>\n",
       "      <td>366168.42</td>\n",
       "      <td>Florida</td>\n",
       "      <td>166187.94</td>\n",
       "    </tr>\n",
       "  </tbody>\n",
       "</table>\n",
       "</div>"
      ],
      "text/plain": [
       "   R&D Spend  Administration  Marketing Spend       State     Profit\n",
       "0  165349.20       136897.80        471784.10    New York  192261.83\n",
       "1  162597.70       151377.59        443898.53  California  191792.06\n",
       "2  153441.51       101145.55        407934.54     Florida  191050.39\n",
       "3  144372.41       118671.85        383199.62    New York  182901.99\n",
       "4  142107.34        91391.77        366168.42     Florida  166187.94"
      ]
     },
     "execution_count": 1,
     "metadata": {},
     "output_type": "execute_result"
    }
   ],
   "source": [
    "import pandas as pd\n",
    "df = pd.read_csv('50_Startups.csv')\n",
    "df.head()"
   ]
  },
  {
   "cell_type": "markdown",
   "metadata": {},
   "source": [
    "### 2. 数据归一化"
   ]
  },
  {
   "cell_type": "code",
   "execution_count": 2,
   "metadata": {},
   "outputs": [
    {
     "data": {
      "text/html": [
       "<div>\n",
       "<style scoped>\n",
       "    .dataframe tbody tr th:only-of-type {\n",
       "        vertical-align: middle;\n",
       "    }\n",
       "\n",
       "    .dataframe tbody tr th {\n",
       "        vertical-align: top;\n",
       "    }\n",
       "\n",
       "    .dataframe thead th {\n",
       "        text-align: right;\n",
       "    }\n",
       "</style>\n",
       "<table border=\"1\" class=\"dataframe\">\n",
       "  <thead>\n",
       "    <tr style=\"text-align: right;\">\n",
       "      <th></th>\n",
       "      <th>R&amp;D Spend</th>\n",
       "      <th>Marketing Spend</th>\n",
       "      <th>Profit</th>\n",
       "    </tr>\n",
       "  </thead>\n",
       "  <tbody>\n",
       "    <tr>\n",
       "      <th>0</th>\n",
       "      <td>1.996146</td>\n",
       "      <td>2.132295</td>\n",
       "      <td>1.990990</td>\n",
       "    </tr>\n",
       "    <tr>\n",
       "      <th>1</th>\n",
       "      <td>1.936203</td>\n",
       "      <td>1.904267</td>\n",
       "      <td>1.979335</td>\n",
       "    </tr>\n",
       "    <tr>\n",
       "      <th>2</th>\n",
       "      <td>1.736731</td>\n",
       "      <td>1.610180</td>\n",
       "      <td>1.960934</td>\n",
       "    </tr>\n",
       "    <tr>\n",
       "      <th>3</th>\n",
       "      <td>1.539157</td>\n",
       "      <td>1.407916</td>\n",
       "      <td>1.758771</td>\n",
       "    </tr>\n",
       "    <tr>\n",
       "      <th>4</th>\n",
       "      <td>1.489812</td>\n",
       "      <td>1.268648</td>\n",
       "      <td>1.344094</td>\n",
       "    </tr>\n",
       "  </tbody>\n",
       "</table>\n",
       "</div>"
      ],
      "text/plain": [
       "   R&D Spend  Marketing Spend    Profit\n",
       "0   1.996146         2.132295  1.990990\n",
       "1   1.936203         1.904267  1.979335\n",
       "2   1.736731         1.610180  1.960934\n",
       "3   1.539157         1.407916  1.758771\n",
       "4   1.489812         1.268648  1.344094"
      ]
     },
     "execution_count": 2,
     "metadata": {},
     "output_type": "execute_result"
    }
   ],
   "source": [
    "def normalize_feature(df):\n",
    "    return df.apply(lambda column: (column - column.mean())/column.std())\n",
    "\n",
    "df = normalize_feature(df[['R&D Spend', 'Marketing Spend', 'Profit']])\n",
    "df.head()"
   ]
  },
  {
   "cell_type": "code",
   "execution_count": 3,
   "metadata": {},
   "outputs": [
    {
     "data": {
      "text/plain": [
       "<mpl_toolkits.mplot3d.art3d.Path3DCollection at 0x13c9d025860>"
      ]
     },
     "execution_count": 3,
     "metadata": {},
     "output_type": "execute_result"
    }
   ],
   "source": [
    "# 数据分析（3D）\n",
    "import matplotlib.pyplot as plt\n",
    "from mpl_toolkits import mplot3d\n",
    "fig = plt.figure()\n",
    "ax = plt.axes(projection='3d')\n",
    "ax.set_xlabel('R&D Spend')\n",
    "ax.set_ylabel('Marketing Spend')\n",
    "ax.set_zlabel('Profit')\n",
    "ax.scatter3D(df['R&D Spend'], df['Marketing Spend'], df['Profit'], c=df['Profit'], cmap='Reds')"
   ]
  },
  {
   "cell_type": "markdown",
   "metadata": {},
   "source": [
    "### 3. 数据处理"
   ]
  },
  {
   "cell_type": "code",
   "execution_count": 4,
   "metadata": {
    "scrolled": true
   },
   "outputs": [
    {
     "name": "stdout",
     "output_type": "stream",
     "text": [
      "(50, 3) <class 'numpy.ndarray'>\n",
      "(50, 1) <class 'numpy.ndarray'>\n"
     ]
    },
    {
     "data": {
      "text/html": [
       "<div>\n",
       "<style scoped>\n",
       "    .dataframe tbody tr th:only-of-type {\n",
       "        vertical-align: middle;\n",
       "    }\n",
       "\n",
       "    .dataframe tbody tr th {\n",
       "        vertical-align: top;\n",
       "    }\n",
       "\n",
       "    .dataframe thead th {\n",
       "        text-align: right;\n",
       "    }\n",
       "</style>\n",
       "<table border=\"1\" class=\"dataframe\">\n",
       "  <thead>\n",
       "    <tr style=\"text-align: right;\">\n",
       "      <th></th>\n",
       "      <th>ones</th>\n",
       "      <th>R&amp;D Spend</th>\n",
       "      <th>Marketing Spend</th>\n",
       "      <th>Profit</th>\n",
       "    </tr>\n",
       "  </thead>\n",
       "  <tbody>\n",
       "    <tr>\n",
       "      <th>0</th>\n",
       "      <td>1.0</td>\n",
       "      <td>1.996146</td>\n",
       "      <td>2.132295</td>\n",
       "      <td>1.990990</td>\n",
       "    </tr>\n",
       "    <tr>\n",
       "      <th>1</th>\n",
       "      <td>1.0</td>\n",
       "      <td>1.936203</td>\n",
       "      <td>1.904267</td>\n",
       "      <td>1.979335</td>\n",
       "    </tr>\n",
       "    <tr>\n",
       "      <th>2</th>\n",
       "      <td>1.0</td>\n",
       "      <td>1.736731</td>\n",
       "      <td>1.610180</td>\n",
       "      <td>1.960934</td>\n",
       "    </tr>\n",
       "    <tr>\n",
       "      <th>3</th>\n",
       "      <td>1.0</td>\n",
       "      <td>1.539157</td>\n",
       "      <td>1.407916</td>\n",
       "      <td>1.758771</td>\n",
       "    </tr>\n",
       "    <tr>\n",
       "      <th>4</th>\n",
       "      <td>1.0</td>\n",
       "      <td>1.489812</td>\n",
       "      <td>1.268648</td>\n",
       "      <td>1.344094</td>\n",
       "    </tr>\n",
       "  </tbody>\n",
       "</table>\n",
       "</div>"
      ],
      "text/plain": [
       "   ones  R&D Spend  Marketing Spend    Profit\n",
       "0   1.0   1.996146         2.132295  1.990990\n",
       "1   1.0   1.936203         1.904267  1.979335\n",
       "2   1.0   1.736731         1.610180  1.960934\n",
       "3   1.0   1.539157         1.407916  1.758771\n",
       "4   1.0   1.489812         1.268648  1.344094"
      ]
     },
     "execution_count": 4,
     "metadata": {},
     "output_type": "execute_result"
    }
   ],
   "source": [
    "import numpy as np\n",
    "\n",
    "# 为了方便矩阵相乘，添加一列全为1的x0\n",
    "ones = pd.DataFrame({'ones': np.ones(len(df))})  # ones是n行1列的数据框，表示x0恒为1\n",
    "df = pd.concat([ones, df], axis=1)  # 根据列合并数据\n",
    "\n",
    "X_data = np.array(df[df.columns[0:3]])\n",
    "Y_data = np.array(df[df.columns[-1]]).reshape(len(df), 1)\n",
    "\n",
    "print(X_data.shape, type(X_data))\n",
    "print(Y_data.shape, type(Y_data))\n",
    "df.head()"
   ]
  },
  {
   "cell_type": "markdown",
   "metadata": {},
   "source": [
    "### 4. 创建线性回归模型（数据流图）"
   ]
  },
  {
   "cell_type": "code",
   "execution_count": 5,
   "metadata": {},
   "outputs": [],
   "source": [
    "import tensorflow as tf\n",
    "\n",
    "tf.reset_default_graph() #  https://www.cnblogs.com/demo-deng/p/10365889.html\n",
    "\n",
    "alpha = 0.01  # 学习率\n",
    "epoch = 500 # 训练全量数据集的轮数\n",
    "\n",
    "# 创建线性回归模型（数据流图）\n",
    "# 输入X, 形状[50,3]\n",
    "X = tf.placeholder(tf.float32, X_data.shape)\n",
    "# 输入Y,形状[50,1]\n",
    "Y = tf.placeholder(tf.float32, Y_data.shape)\n",
    "\n",
    "# 权重变量W，形状[3,1]\n",
    "# 存疑：tf.get_variable_scope().reuse_variables()  # https://cloud.tencent.com/developer/article/1335672\n",
    "W = tf.get_variable(\"weights\", (X_data.shape[1], 1), initializer=tf.constant_initializer())\n",
    "\n",
    "# 假设函数 h(x) = w0*x0+w1*x1+w2*x2,其中x0恒为1\n",
    "# 推理值 Y_pred 形状[47,1]\n",
    "Y_pred = tf.matmul(X, W)\n",
    "\n",
    "# 损失函数采用最小二乘法，Y_pred - y 是形如[47,1]的向量\n",
    "# tf.matmul(a, b, transpose_a=True) 表示： 矩阵a的转置乘矩阵b,及[1,47] x [47,1]\n",
    "\n",
    "# 损失函数操作 loss\n",
    "loss_op = 1 / (2 * len(X_data)) * tf.matmul((Y_pred - Y), (Y_pred - Y), transpose_a=True)\n",
    "# 随机梯度下降优化器 opt\n",
    "opt = tf.train.GradientDescentOptimizer(learning_rate=alpha)\n",
    "# 单步训练操作 train_op\n",
    "train_op = opt.minimize(loss_op)"
   ]
  },
  {
   "cell_type": "markdown",
   "metadata": {},
   "source": [
    "### 5. 创建会话（运行环境）"
   ]
  },
  {
   "cell_type": "code",
   "execution_count": 7,
   "metadata": {},
   "outputs": [
    {
     "name": "stdout",
     "output_type": "stream",
     "text": [
      "Epoch 10 \t Loss=0.3661 \t Model: y = 0.08908x1 + 0.06728x2 + -8.941e-10\n",
      "Epoch 20 \t Loss=0.2775 \t Model: y = 0.1656x1 + 0.1226x2 + -4.098e-10\n",
      "Epoch 30 \t Loss=0.2139 \t Model: y = 0.2315x1 + 0.1679x2 + 1.08e-09\n",
      "Epoch 40 \t Loss=0.1682 \t Model: y = 0.2885x1 + 0.2047x2 + -6.706e-10\n",
      "Epoch 50 \t Loss=0.1352 \t Model: y = 0.3378x1 + 0.2345x2 + -2.235e-10\n",
      "Epoch 60 \t Loss=0.1113 \t Model: y = 0.3807x1 + 0.2583x2 + 3.725e-10\n",
      "Epoch 70 \t Loss=0.09382 \t Model: y = 0.4181x1 + 0.2772x2 + -2.794e-10\n",
      "Epoch 80 \t Loss=0.08101 \t Model: y = 0.4508x1 + 0.2919x2 + 1.863e-11\n",
      "Epoch 90 \t Loss=0.07152 \t Model: y = 0.4796x1 + 0.3031x2 + 9.313e-10\n",
      "Epoch 100 \t Loss=0.06441 \t Model: y = 0.505x1 + 0.3114x2 + 1.621e-09\n",
      "Epoch 110 \t Loss=0.05901 \t Model: y = 0.5275x1 + 0.3173x2 + 2.403e-09\n",
      "Epoch 120 \t Loss=0.05484 \t Model: y = 0.5476x1 + 0.3212x2 + 3.241e-09\n",
      "Epoch 130 \t Loss=0.05157 \t Model: y = 0.5656x1 + 0.3235x2 + 3.669e-09\n",
      "Epoch 140 \t Loss=0.04895 \t Model: y = 0.5818x1 + 0.3243x2 + 3.371e-09\n",
      "Epoch 150 \t Loss=0.04681 \t Model: y = 0.5964x1 + 0.3241x2 + 3.576e-09\n",
      "Epoch 160 \t Loss=0.04502 \t Model: y = 0.6098x1 + 0.3229x2 + 3.781e-09\n",
      "Epoch 170 \t Loss=0.04351 \t Model: y = 0.622x1 + 0.3209x2 + 3.967e-09\n",
      "Epoch 180 \t Loss=0.04219 \t Model: y = 0.6331x1 + 0.3183x2 + 4.414e-09\n",
      "Epoch 190 \t Loss=0.04103 \t Model: y = 0.6435x1 + 0.3153x2 + 4.917e-09\n",
      "Epoch 200 \t Loss=0.04 \t Model: y = 0.6531x1 + 0.3118x2 + 4.806e-09\n",
      "Epoch 210 \t Loss=0.03906 \t Model: y = 0.662x1 + 0.3081x2 + 5.066e-09\n",
      "Epoch 220 \t Loss=0.0382 \t Model: y = 0.6704x1 + 0.3041x2 + 5.141e-09\n",
      "Epoch 230 \t Loss=0.03741 \t Model: y = 0.6782x1 + 0.2999x2 + 5.309e-09\n",
      "Epoch 240 \t Loss=0.03668 \t Model: y = 0.6856x1 + 0.2956x2 + 5.607e-09\n",
      "Epoch 250 \t Loss=0.036 \t Model: y = 0.6926x1 + 0.2912x2 + 5.83e-09\n",
      "Epoch 260 \t Loss=0.03537 \t Model: y = 0.6992x1 + 0.2868x2 + 5.811e-09\n",
      "Epoch 270 \t Loss=0.03477 \t Model: y = 0.7056x1 + 0.2823x2 + 6.277e-09\n",
      "Epoch 280 \t Loss=0.0342 \t Model: y = 0.7116x1 + 0.2779x2 + 6.519e-09\n",
      "Epoch 290 \t Loss=0.03367 \t Model: y = 0.7174x1 + 0.2734x2 + 7.004e-09\n",
      "Epoch 300 \t Loss=0.03317 \t Model: y = 0.7229x1 + 0.269x2 + 7.395e-09\n",
      "Epoch 310 \t Loss=0.0327 \t Model: y = 0.7282x1 + 0.2646x2 + 7.618e-09\n",
      "Epoch 320 \t Loss=0.03226 \t Model: y = 0.7333x1 + 0.2603x2 + 7.618e-09\n",
      "Epoch 330 \t Loss=0.03183 \t Model: y = 0.7382x1 + 0.2561x2 + 7.749e-09\n",
      "Epoch 340 \t Loss=0.03143 \t Model: y = 0.743x1 + 0.2519x2 + 7.6e-09\n",
      "Epoch 350 \t Loss=0.03106 \t Model: y = 0.7476x1 + 0.2478x2 + 8.084e-09\n",
      "Epoch 360 \t Loss=0.0307 \t Model: y = 0.752x1 + 0.2438x2 + 8.009e-09\n",
      "Epoch 370 \t Loss=0.03036 \t Model: y = 0.7563x1 + 0.2398x2 + 8.103e-09\n",
      "Epoch 380 \t Loss=0.03004 \t Model: y = 0.7604x1 + 0.236x2 + 7.842e-09\n",
      "Epoch 390 \t Loss=0.02974 \t Model: y = 0.7644x1 + 0.2322x2 + 8.121e-09\n",
      "Epoch 400 \t Loss=0.02945 \t Model: y = 0.7683x1 + 0.2285x2 + 8.27e-09\n",
      "Epoch 410 \t Loss=0.02918 \t Model: y = 0.7721x1 + 0.2249x2 + 8.419e-09\n",
      "Epoch 420 \t Loss=0.02892 \t Model: y = 0.7758x1 + 0.2214x2 + 8.382e-09\n",
      "Epoch 430 \t Loss=0.02867 \t Model: y = 0.7793x1 + 0.2179x2 + 8.419e-09\n",
      "Epoch 440 \t Loss=0.02844 \t Model: y = 0.7828x1 + 0.2146x2 + 8.55e-09\n",
      "Epoch 450 \t Loss=0.02822 \t Model: y = 0.7862x1 + 0.2113x2 + 8.978e-09\n",
      "Epoch 460 \t Loss=0.02801 \t Model: y = 0.7894x1 + 0.2081x2 + 9.034e-09\n",
      "Epoch 470 \t Loss=0.02782 \t Model: y = 0.7926x1 + 0.205x2 + 9.295e-09\n",
      "Epoch 480 \t Loss=0.02763 \t Model: y = 0.7957x1 + 0.202x2 + 9.481e-09\n",
      "Epoch 490 \t Loss=0.02745 \t Model: y = 0.7987x1 + 0.199x2 + 9.667e-09\n",
      "Epoch 500 \t Loss=0.02729 \t Model: y = 0.8016x1 + 0.1962x2 + 9.444e-09\n"
     ]
    }
   ],
   "source": [
    "# 创建会话（运行环境）\n",
    "with tf.Session() as sess:\n",
    "    # 初始化全局变量\n",
    "    sess.run(tf.global_variables_initializer())\n",
    "    \n",
    "    # 创建 FileWriter 实例\n",
    "    writer = tf.summary.FileWriter(\"./summary/linear-regression-0/\", sess.graph)\n",
    "    # 开始训练模型\n",
    "    # 因为训练集较小，所以不采用批梯度下降优化算法，每次都采用全量数据训练\n",
    "    for e in range(1, epoch+1):\n",
    "        sess.run(train_op, feed_dict={X: X_data, Y: Y_data})\n",
    "        if e % 10 == 0:\n",
    "            loss, w = sess.run([loss_op, W], feed_dict={X: X_data, Y: Y_data})\n",
    "            log_str = \"Epoch %d \\t Loss=%.4g \\t Model: y = %.4gx1 + %.4gx2 + %.4g\"\n",
    "            print(log_str % (e, loss, w[1], w[2], w[0]))\n",
    "    \n",
    "\n",
    "writer.close()\n",
    "# tensorboard --logdir ./ --host localhost"
   ]
  },
  {
   "cell_type": "code",
   "execution_count": null,
   "metadata": {},
   "outputs": [],
   "source": []
  }
 ],
 "metadata": {
  "kernelspec": {
   "display_name": "Python 3",
   "language": "python",
   "name": "python3"
  },
  "language_info": {
   "codemirror_mode": {
    "name": "ipython",
    "version": 3
   },
   "file_extension": ".py",
   "mimetype": "text/x-python",
   "name": "python",
   "nbconvert_exporter": "python",
   "pygments_lexer": "ipython3",
   "version": "3.6.4"
  }
 },
 "nbformat": 4,
 "nbformat_minor": 2
}
