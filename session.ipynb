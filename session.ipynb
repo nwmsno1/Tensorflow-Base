{
 "cells": [
  {
   "cell_type": "code",
   "execution_count": 1,
   "metadata": {},
   "outputs": [
    {
     "name": "stderr",
     "output_type": "stream",
     "text": [
      "C:\\Users\\nwmsn\\Anaconda3\\lib\\site-packages\\h5py\\__init__.py:36: FutureWarning: Conversion of the second argument of issubdtype from `float` to `np.floating` is deprecated. In future, it will be treated as `np.float64 == np.dtype(float).type`.\n",
      "  from ._conv import register_converters as _register_converters\n"
     ]
    }
   ],
   "source": [
    "import tensorflow as tf"
   ]
  },
  {
   "cell_type": "markdown",
   "metadata": {},
   "source": [
    "1. 创建会话\n",
    "    sess = tf.Session(target=..., graph=..., config=...)  \n",
    "    target: 会话连接的执行引擎  \n",
    "    graph： 会话加载的数据流图  \n",
    "    config： 会话启动时的配置项\n",
    "2. 估算张量或者执行操作\n",
    "    sess.run(...)\n",
    "3. 关闭会话\n",
    "    sess.close()"
   ]
  },
  {
   "cell_type": "code",
   "execution_count": 2,
   "metadata": {},
   "outputs": [
    {
     "name": "stdout",
     "output_type": "stream",
     "text": [
      "6.0\n"
     ]
    }
   ],
   "source": [
    "# 创建数据流图： z = x * y\n",
    "x = tf.placeholder(tf.float32, name='x')\n",
    "y = tf.placeholder(tf.float32, name='y')\n",
    "z = tf.multiply(x, y, name='z')\n",
    "# 创建会话\n",
    "sess = tf.Session()\n",
    "# 向数据节点x和y分别填充浮点数3.0和2.0，并输出结果\n",
    "print(sess.run(z, feed_dict={x: 3.0, y: 2.0}))"
   ]
  },
  {
   "cell_type": "code",
   "execution_count": 3,
   "metadata": {},
   "outputs": [
    {
     "name": "stdout",
     "output_type": "stream",
     "text": [
      "3.0\n"
     ]
    }
   ],
   "source": [
    "# 创建数据流图: c = a + b\n",
    "a = tf.constant(1.0, name='a')\n",
    "b = tf.constant(2.0, name='b')\n",
    "c = tf.add(a, b, name='c')\n",
    "# 创建会话\n",
    "sess = tf.Session()\n",
    "# 估算张量C的值\n",
    "print(sess.run(c))"
   ]
  },
  {
   "cell_type": "code",
   "execution_count": 4,
   "metadata": {},
   "outputs": [
    {
     "name": "stdout",
     "output_type": "stream",
     "text": [
      "4.0\n"
     ]
    }
   ],
   "source": [
    "# 创建数据流图: y = W * x + b， 其中W 和 b为存储节点， x 为数据节点\n",
    "x = tf.placeholder(tf.float32)\n",
    "W = tf.Variable(1.0)\n",
    "b = tf.Variable(1.0)\n",
    "y = W * x + b\n",
    "with tf.Session() as sess:\n",
    "    tf.global_variables_initializer().run() # Operation.run\n",
    "    fetch = y.eval(feed_dict={x: 3.0})      # Tensor.eval\n",
    "    print(fetch)                            # fetch = 1.0 * 3.0 + 1.0"
   ]
  },
  {
   "cell_type": "markdown",
   "metadata": {},
   "source": [
    "对于单机程序来说，相同机器上不同编号的CPU或者GPU就是不同的设备，  \n",
    "我们可以在创建节点是制定执行该节点的设备\n",
    "1. 在0号CPU执行的存储节点  \n",
    "with tf.device(\"/cpu:0\"):  \n",
    "    v = tf.Variable(...)  \n",
    "2. 在0号GPU上执行的计算节点  \n",
    "with tf.device(\"/gpu:0\"):  \n",
    "    z = tf.matmul(x, y)"
   ]
  },
  {
   "cell_type": "code",
   "execution_count": null,
   "metadata": {},
   "outputs": [],
   "source": []
  }
 ],
 "metadata": {
  "kernelspec": {
   "display_name": "Python 3",
   "language": "python",
   "name": "python3"
  },
  "language_info": {
   "codemirror_mode": {
    "name": "ipython",
    "version": 3
   },
   "file_extension": ".py",
   "mimetype": "text/x-python",
   "name": "python",
   "nbconvert_exporter": "python",
   "pygments_lexer": "ipython3",
   "version": "3.6.4"
  }
 },
 "nbformat": 4,
 "nbformat_minor": 2
}
